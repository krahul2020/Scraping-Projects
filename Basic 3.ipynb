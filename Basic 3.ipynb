{
 "cells": [
  {
   "cell_type": "markdown",
   "id": "f77f439c",
   "metadata": {},
   "source": [
    "Create a Python list with the following values: [3, 5, 9, 20, 30, 55, 102, 123, 174]\n",
    "\n",
    "●\tPrint the fifth element (30) of the list. [💡 recall, the first element is in cell 0]\n",
    "●\tCompute the sum of the values. \n",
    "●\tCompute the mean of the values. [💡 len() gives the number of elements in a list]     \n",
    "●\tCompute the product of all the numbers (multiply them all together). \n",
    "\n"
   ]
  },
  {
   "cell_type": "code",
   "execution_count": null,
   "id": "59441dc7",
   "metadata": {},
   "outputs": [],
   "source": [
    "\n",
    "\n",
    "l=[3,5,9,20,30,55,102,123,174]\n",
    "\n",
    "print(\"The fifth element in the list is:\",l[4])\n",
    "\n",
    "s=sum(l)\n",
    "\n",
    "print(\"The sum of all elements in the list is:\",s)\n",
    "\n",
    "length=len(l)\n",
    "mean=s/length\n",
    "\n",
    "print(\"The mean of all the elements in the list is\",mean)\n",
    "\n",
    "p=1\n",
    "\n",
    "for i in l:\n",
    "    \n",
    "    p=p*i\n",
    "    \n",
    "print(\"The product of all the elements in the list is :\",p)"
   ]
  }
 ],
 "metadata": {
  "kernelspec": {
   "display_name": "Python 3",
   "language": "python",
   "name": "python3"
  },
  "language_info": {
   "codemirror_mode": {
    "name": "ipython",
    "version": 3
   },
   "file_extension": ".py",
   "mimetype": "text/x-python",
   "name": "python",
   "nbconvert_exporter": "python",
   "pygments_lexer": "ipython3",
   "version": "3.8.8"
  }
 },
 "nbformat": 4,
 "nbformat_minor": 5
}
