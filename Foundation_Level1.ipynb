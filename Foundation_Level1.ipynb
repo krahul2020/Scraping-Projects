{
 "cells": [
  {
   "cell_type": "markdown",
   "id": "ae54a171",
   "metadata": {},
   "source": [
    "Assume that you are responsible for counting the number of students who are graduating from Purdue this term based on their responses to a survey. A student who is graduating may submit their response as ‘G’ or ‘g’ and a student who is not graduating could either answer as ‘N’ or ‘n’. These responses are stored in a list called status (as shown below).\n",
    "\n",
    " \n",
    "\n",
    "\n",
    "You can copy and paste the following, to initialize the list.\n",
    "status = \"g G n n n N g G g N G G N g n\"\n",
    "\n",
    "\n",
    "Use Python to determine the percentage of students who will and will not be graduating from Purdue this term, using this small dataset.  \n",
    "💡 Note: There is no need for a ‘for’ loop—by simply exploring the methods available on any string, you will find enough tools to be able to do this.\n",
    "Make sure that you show all your code and make sure that you are not manually inserting the number of student responses into the percentage calculation.  Your code should automatically count the results and then calculate a percentage.  This means that if you changed the status string, your code would still work, as expected, for the updated values."
   ]
  },
  {
   "cell_type": "code",
   "execution_count": null,
   "id": "3d938ad5",
   "metadata": {},
   "outputs": [],
   "source": [
    "status = ['g', 'G', 'n','n','n','N','g','G','g','N','G','G','N','g','n']#input list\n",
    "\n",
    "status=\" \".join(status)#converting list into string\n",
    "\n",
    "status=status.lower()#converting the string into lowercase\n",
    "#print(status)#print the string to check the changes\n",
    "\n",
    "total_graduating=status.count('g')#counting the number of students graduating\n",
    "#print(total_graduating)\n",
    "\n",
    "total_notgraduating=status.count('n')#counting the number of students not graduating\n",
    "#print(total_notgraduating)\n",
    "\n",
    "status=status.replace(\" \",\"\")#removing the spaces from the string\n",
    "total_students=len(status)#calculating the length of the string will give the number of students graduating\n",
    "#print(total)\n",
    "\n",
    "'''calculating the percentages of students graduating and not graduating'''\n",
    "percent_graduating=((total_graduating/total_students)*100)#percentage of students graduating\n",
    "print(\"Percentage of students who are graduating is\",percent_graduating)\n",
    "\n",
    "percent_notgraduating=((total_notgraduating/total_students)*100)#percentage of students not graduating\n",
    "print(\"Percentage of students who are not graduating is\",percent_notgraduating)"
   ]
  }
 ],
 "metadata": {
  "kernelspec": {
   "display_name": "Python 3",
   "language": "python",
   "name": "python3"
  },
  "language_info": {
   "codemirror_mode": {
    "name": "ipython",
    "version": 3
   },
   "file_extension": ".py",
   "mimetype": "text/x-python",
   "name": "python",
   "nbconvert_exporter": "python",
   "pygments_lexer": "ipython3",
   "version": "3.8.8"
  }
 },
 "nbformat": 4,
 "nbformat_minor": 5
}
